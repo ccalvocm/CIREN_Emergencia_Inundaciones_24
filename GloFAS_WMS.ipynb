{
 "cells": [
  {
   "cell_type": "code",
   "execution_count": 8,
   "metadata": {},
   "outputs": [
    {
     "data": {
      "application/vnd.jupyter.widget-view+json": {
       "model_id": "91e94bca9c42441296e73c41081af7bf",
       "version_major": 2,
       "version_minor": 0
      },
      "text/plain": [
       "Map(center=[0, 0], controls=(ZoomControl(options=['position', 'zoom_in_text', 'zoom_in_title', 'zoom_out_text'…"
      ]
     },
     "execution_count": 8,
     "metadata": {},
     "output_type": "execute_result"
    }
   ],
   "source": [
    "from owslib.wms import WebMapService\n",
    "from ipyleaflet import Map, WMSLayer, basemaps\n",
    "\n",
    "# coneccion a WMS\n",
    "wms = WebMapService('http://globalfloods-ows.ecmwf.int/glofas-ows/ows.py', username='ciren_emergencias@proton.me', password='Ciren2020,')\n",
    "\n",
    "# crea mapa\n",
    "m = Map(basemap=basemaps.CartoDB.Positron, center=(0, 0), zoom=2)\n",
    "\n",
    "# cargar capas del WMS al mapa\n",
    "# for layer in list(wms.contents):\n",
    "#     print(layer)\n",
    "layers=['sumALEEGE','sumALHEGE']\n",
    "for layer in layers:\n",
    "    wms_layer = WMSLayer(\n",
    "        url='http://globalfloods-ows.ecmwf.int/glofas-ows/ows.py',\n",
    "        layers=layer,\n",
    "        format='image/png',\n",
    "        transparent=True,\n",
    "        attribution='Copernicus GloFAS'\n",
    "    )\n",
    "m.add_layer(wms_layer)\n",
    "\n",
    "# mostrar mapa\n",
    "m"
   ]
  },
  {
   "cell_type": "markdown",
   "metadata": {},
   "source": []
  },
  {
   "cell_type": "code",
   "execution_count": null,
   "metadata": {},
   "outputs": [],
   "source": []
  }
 ],
 "metadata": {
  "kernelspec": {
   "display_name": "sequia",
   "language": "python",
   "name": "python3"
  },
  "language_info": {
   "codemirror_mode": {
    "name": "ipython",
    "version": 3
   },
   "file_extension": ".py",
   "mimetype": "text/x-python",
   "name": "python",
   "nbconvert_exporter": "python",
   "pygments_lexer": "ipython3",
   "version": "3.8.15"
  }
 },
 "nbformat": 4,
 "nbformat_minor": 2
}
