{
  "nbformat": 4,
  "nbformat_minor": 0,
  "metadata": {
    "colab": {
      "provenance": [],
      "authorship_tag": "ABX9TyOR6RLp7wjNPUsy4qD+2nx/",
      "include_colab_link": true
    },
    "kernelspec": {
      "name": "python3",
      "display_name": "Python 3"
    },
    "language_info": {
      "name": "python"
    },
    "widgets": {
      "application/vnd.jupyter.widget-state+json": {
        "b27bd104b25748c2b1df3736166a850d": {
          "model_module": "jupyter-leaflet",
          "model_name": "LeafletMapModel",
          "model_module_version": "^0.18",
          "state": {
            "_dom_classes": [],
            "_model_module": "jupyter-leaflet",
            "_model_module_version": "^0.18",
            "_model_name": "LeafletMapModel",
            "_view_count": null,
            "_view_module": "jupyter-leaflet",
            "_view_module_version": "^0.18",
            "_view_name": "LeafletMapView",
            "bottom": 712,
            "bounce_at_zoom_limits": true,
            "box_zoom": true,
            "center": [
              0,
              0
            ],
            "close_popup_on_click": true,
            "controls": [
              "IPY_MODEL_a055bc0344914c6b8c7d2d27b94bc24c",
              "IPY_MODEL_ed7c439d1b72468d8fae5d0b8bfa0962"
            ],
            "crs": {
              "name": "EPSG3857",
              "custom": false
            },
            "default_style": "IPY_MODEL_ca304a56a30543b6832fa519f88f12e4",
            "double_click_zoom": true,
            "dragging": true,
            "dragging_style": "IPY_MODEL_2701b9114202416a960da8aac20eb426",
            "east": 220.78125000000003,
            "fullscreen": false,
            "inertia": true,
            "inertia_deceleration": 3000,
            "inertia_max_speed": 1500,
            "interpolation": "bilinear",
            "keyboard": true,
            "keyboard_pan_offset": 80,
            "keyboard_zoom_offset": 1,
            "layers": [
              "IPY_MODEL_7c114cd2a71e41a4843454f4b717c5e6",
              "IPY_MODEL_99f1bee164984af1ba93d02853261291"
            ],
            "layout": "IPY_MODEL_a88523d664394aa98bb358af89b172db",
            "left": -116,
            "max_zoom": null,
            "min_zoom": null,
            "modisdate": "2024-09-03",
            "north": 57.326521225217064,
            "options": [
              "bounce_at_zoom_limits",
              "box_zoom",
              "center",
              "close_popup_on_click",
              "double_click_zoom",
              "dragging",
              "fullscreen",
              "inertia",
              "inertia_deceleration",
              "inertia_max_speed",
              "interpolation",
              "keyboard",
              "keyboard_pan_offset",
              "keyboard_zoom_offset",
              "max_zoom",
              "min_zoom",
              "prefer_canvas",
              "scroll_wheel_zoom",
              "tap",
              "tap_tolerance",
              "touch_zoom",
              "world_copy_jump",
              "zoom",
              "zoom_animation_threshold",
              "zoom_delta",
              "zoom_snap"
            ],
            "panes": {},
            "prefer_canvas": false,
            "right": 1140,
            "scroll_wheel_zoom": false,
            "south": -57.32652122521708,
            "style": "IPY_MODEL_393597a3e490447488dc83e404976039",
            "tap": true,
            "tap_tolerance": 15,
            "top": 312,
            "touch_zoom": true,
            "west": -220.78125000000003,
            "window_url": "https://01nvd5ibca6e-496ff2e9c6d22116-0-colab.googleusercontent.com/outputframe.html?vrz=colab_20240903-060129_RC00_670496038",
            "world_copy_jump": false,
            "zoom": 2,
            "zoom_animation_threshold": 4,
            "zoom_delta": 1,
            "zoom_snap": 1
          }
        },
        "a055bc0344914c6b8c7d2d27b94bc24c": {
          "model_module": "jupyter-leaflet",
          "model_name": "LeafletZoomControlModel",
          "model_module_version": "^0.18",
          "state": {
            "_model_module": "jupyter-leaflet",
            "_model_module_version": "^0.18",
            "_model_name": "LeafletZoomControlModel",
            "_view_count": null,
            "_view_module": "jupyter-leaflet",
            "_view_module_version": "^0.18",
            "_view_name": "LeafletZoomControlView",
            "options": [
              "position",
              "zoom_in_text",
              "zoom_in_title",
              "zoom_out_text",
              "zoom_out_title"
            ],
            "position": "topleft",
            "zoom_in_text": "+",
            "zoom_in_title": "Zoom in",
            "zoom_out_text": "-",
            "zoom_out_title": "Zoom out"
          }
        },
        "ed7c439d1b72468d8fae5d0b8bfa0962": {
          "model_module": "jupyter-leaflet",
          "model_name": "LeafletAttributionControlModel",
          "model_module_version": "^0.18",
          "state": {
            "_model_module": "jupyter-leaflet",
            "_model_module_version": "^0.18",
            "_model_name": "LeafletAttributionControlModel",
            "_view_count": null,
            "_view_module": "jupyter-leaflet",
            "_view_module_version": "^0.18",
            "_view_name": "LeafletAttributionControlView",
            "options": [
              "position",
              "prefix"
            ],
            "position": "bottomright",
            "prefix": "ipyleaflet"
          }
        },
        "ca304a56a30543b6832fa519f88f12e4": {
          "model_module": "jupyter-leaflet",
          "model_name": "LeafletMapStyleModel",
          "model_module_version": "^0.18",
          "state": {
            "_model_module": "jupyter-leaflet",
            "_model_module_version": "^0.18",
            "_model_name": "LeafletMapStyleModel",
            "_view_count": null,
            "_view_module": "@jupyter-widgets/base",
            "_view_module_version": "1.2.0",
            "_view_name": "StyleView",
            "cursor": "grab"
          }
        },
        "2701b9114202416a960da8aac20eb426": {
          "model_module": "jupyter-leaflet",
          "model_name": "LeafletMapStyleModel",
          "model_module_version": "^0.18",
          "state": {
            "_model_module": "jupyter-leaflet",
            "_model_module_version": "^0.18",
            "_model_name": "LeafletMapStyleModel",
            "_view_count": null,
            "_view_module": "@jupyter-widgets/base",
            "_view_module_version": "1.2.0",
            "_view_name": "StyleView",
            "cursor": "move"
          }
        },
        "7c114cd2a71e41a4843454f4b717c5e6": {
          "model_module": "jupyter-leaflet",
          "model_name": "LeafletTileLayerModel",
          "model_module_version": "^0.18",
          "state": {
            "_model_module": "jupyter-leaflet",
            "_model_module_version": "^0.18",
            "_model_name": "LeafletTileLayerModel",
            "_view_count": null,
            "_view_module": "jupyter-leaflet",
            "_view_module_version": "^0.18",
            "_view_name": "LeafletTileLayerView",
            "attribution": "&copy; <a href=\"https://www.openstreetmap.org/copyright\">OpenStreetMap</a> contributors &copy; <a href=\"https://carto.com/attributions\">CARTO</a>",
            "base": true,
            "bottom": true,
            "bounds": null,
            "detect_retina": false,
            "loading": false,
            "max_native_zoom": null,
            "max_zoom": 20,
            "min_native_zoom": null,
            "min_zoom": 1,
            "name": "CartoDB.Positron",
            "no_wrap": false,
            "opacity": 1,
            "options": [
              "attribution",
              "bounds",
              "detect_retina",
              "max_native_zoom",
              "max_zoom",
              "min_native_zoom",
              "min_zoom",
              "no_wrap",
              "tile_size",
              "tms",
              "zoom_offset"
            ],
            "pane": "",
            "popup": null,
            "popup_max_height": null,
            "popup_max_width": 300,
            "popup_min_width": 50,
            "show_loading": false,
            "subitems": [],
            "tile_size": 256,
            "tms": false,
            "url": "https://a.basemaps.cartocdn.com/light_all/{z}/{x}/{y}.png",
            "visible": true,
            "zoom_offset": 0
          }
        },
        "99f1bee164984af1ba93d02853261291": {
          "model_module": "jupyter-leaflet",
          "model_name": "LeafletWMSLayerModel",
          "model_module_version": "^0.18",
          "state": {
            "_model_module": "jupyter-leaflet",
            "_model_module_version": "^0.18",
            "_model_name": "LeafletWMSLayerModel",
            "_view_count": null,
            "_view_module": "jupyter-leaflet",
            "_view_module_version": "^0.18",
            "_view_name": "LeafletWMSLayerView",
            "attribution": "Copernicus GloFAS",
            "base": false,
            "bottom": true,
            "bounds": null,
            "crs": {
              "name": "EPSG3857",
              "custom": false
            },
            "detect_retina": false,
            "format": "image/png",
            "layers": "sumALHEGE",
            "loading": false,
            "max_native_zoom": null,
            "max_zoom": 18,
            "min_native_zoom": null,
            "min_zoom": 0,
            "name": "",
            "no_wrap": false,
            "opacity": 1,
            "options": [
              "attribution",
              "bounds",
              "detect_retina",
              "format",
              "layers",
              "max_native_zoom",
              "max_zoom",
              "min_native_zoom",
              "min_zoom",
              "no_wrap",
              "styles",
              "tile_size",
              "tms",
              "transparent",
              "uppercase",
              "zoom_offset"
            ],
            "pane": "",
            "popup": null,
            "popup_max_height": null,
            "popup_max_width": 300,
            "popup_min_width": 50,
            "show_loading": false,
            "styles": "",
            "subitems": [],
            "tile_size": 256,
            "tms": false,
            "transparent": true,
            "uppercase": false,
            "url": "http://globalfloods-ows.ecmwf.int/glofas-ows/ows.py",
            "visible": true,
            "zoom_offset": 0
          }
        },
        "a88523d664394aa98bb358af89b172db": {
          "model_module": "@jupyter-widgets/base",
          "model_name": "LayoutModel",
          "model_module_version": "1.2.0",
          "state": {
            "_model_module": "@jupyter-widgets/base",
            "_model_module_version": "1.2.0",
            "_model_name": "LayoutModel",
            "_view_count": null,
            "_view_module": "@jupyter-widgets/base",
            "_view_module_version": "1.2.0",
            "_view_name": "LayoutView",
            "align_content": null,
            "align_items": null,
            "align_self": null,
            "border": null,
            "bottom": null,
            "display": null,
            "flex": null,
            "flex_flow": null,
            "grid_area": null,
            "grid_auto_columns": null,
            "grid_auto_flow": null,
            "grid_auto_rows": null,
            "grid_column": null,
            "grid_gap": null,
            "grid_row": null,
            "grid_template_areas": null,
            "grid_template_columns": null,
            "grid_template_rows": null,
            "height": null,
            "justify_content": null,
            "justify_items": null,
            "left": null,
            "margin": null,
            "max_height": null,
            "max_width": null,
            "min_height": null,
            "min_width": null,
            "object_fit": null,
            "object_position": null,
            "order": null,
            "overflow": null,
            "overflow_x": null,
            "overflow_y": null,
            "padding": null,
            "right": null,
            "top": null,
            "visibility": null,
            "width": null
          }
        },
        "393597a3e490447488dc83e404976039": {
          "model_module": "jupyter-leaflet",
          "model_name": "LeafletMapStyleModel",
          "model_module_version": "^0.18",
          "state": {
            "_model_module": "jupyter-leaflet",
            "_model_module_version": "^0.18",
            "_model_name": "LeafletMapStyleModel",
            "_view_count": null,
            "_view_module": "@jupyter-widgets/base",
            "_view_module_version": "1.2.0",
            "_view_name": "StyleView",
            "cursor": "grab"
          }
        }
      }
    }
  },
  "cells": [
    {
      "cell_type": "markdown",
      "metadata": {
        "id": "view-in-github",
        "colab_type": "text"
      },
      "source": [
        "<a href=\"https://colab.research.google.com/github/ccalvocm/CIREN_Emergencia_Inundaciones_24/blob/main/Plataforma_inundaciones.ipynb\" target=\"_parent\"><img src=\"https://colab.research.google.com/assets/colab-badge.svg\" alt=\"Open In Colab\"/></a>"
      ]
    },
    {
      "cell_type": "code",
      "execution_count": 4,
      "metadata": {
        "colab": {
          "base_uri": "https://localhost:8080/",
          "height": 612,
          "referenced_widgets": [
            "b27bd104b25748c2b1df3736166a850d",
            "a055bc0344914c6b8c7d2d27b94bc24c",
            "ed7c439d1b72468d8fae5d0b8bfa0962",
            "ca304a56a30543b6832fa519f88f12e4",
            "2701b9114202416a960da8aac20eb426",
            "7c114cd2a71e41a4843454f4b717c5e6",
            "99f1bee164984af1ba93d02853261291",
            "a88523d664394aa98bb358af89b172db",
            "393597a3e490447488dc83e404976039"
          ]
        },
        "id": "Bidy6ka1ORJr",
        "outputId": "2002910e-df14-4089-dfe0-396420527dc9"
      },
      "outputs": [
        {
          "output_type": "stream",
          "name": "stdout",
          "text": [
            "Requirement already satisfied: owslib in /usr/local/lib/python3.10/dist-packages (0.31.0)\n",
            "Requirement already satisfied: lxml in /usr/local/lib/python3.10/dist-packages (from owslib) (4.9.4)\n",
            "Requirement already satisfied: python-dateutil>=1.5 in /usr/local/lib/python3.10/dist-packages (from owslib) (2.8.2)\n",
            "Requirement already satisfied: pytz in /usr/local/lib/python3.10/dist-packages (from owslib) (2024.1)\n",
            "Requirement already satisfied: pyyaml in /usr/local/lib/python3.10/dist-packages (from owslib) (6.0.2)\n",
            "Requirement already satisfied: requests>=1.0 in /usr/local/lib/python3.10/dist-packages (from owslib) (2.32.3)\n",
            "Requirement already satisfied: six>=1.5 in /usr/local/lib/python3.10/dist-packages (from python-dateutil>=1.5->owslib) (1.16.0)\n",
            "Requirement already satisfied: charset-normalizer<4,>=2 in /usr/local/lib/python3.10/dist-packages (from requests>=1.0->owslib) (3.3.2)\n",
            "Requirement already satisfied: idna<4,>=2.5 in /usr/local/lib/python3.10/dist-packages (from requests>=1.0->owslib) (3.8)\n",
            "Requirement already satisfied: urllib3<3,>=1.21.1 in /usr/local/lib/python3.10/dist-packages (from requests>=1.0->owslib) (2.0.7)\n",
            "Requirement already satisfied: certifi>=2017.4.17 in /usr/local/lib/python3.10/dist-packages (from requests>=1.0->owslib) (2024.8.30)\n"
          ]
        },
        {
          "output_type": "display_data",
          "data": {
            "text/plain": [
              "Map(center=[0, 0], controls=(ZoomControl(options=['position', 'zoom_in_text', 'zoom_in_title', 'zoom_out_text'…"
            ],
            "application/vnd.jupyter.widget-view+json": {
              "version_major": 2,
              "version_minor": 0,
              "model_id": "b27bd104b25748c2b1df3736166a850d"
            }
          },
          "metadata": {
            "application/vnd.jupyter.widget-view+json": {
              "colab": {
                "custom_widget_manager": {
                  "url": "https://ssl.gstatic.com/colaboratory-static/widgets/colab-cdn-widget-manager/2b70e893a8ba7c0f/manager.min.js"
                }
              }
            }
          }
        }
      ],
      "source": [
        "!pip install owslib\n",
        "from owslib.wms import WebMapService\n",
        "from ipyleaflet import Map, WMSLayer, basemaps\n",
        "\n",
        "# conexion a WMS\n",
        "wms = WebMapService('http://globalfloods-ows.ecmwf.int/glofas-ows/ows.py', username='ciren_emergencias@proton.me', password='Ciren2020,')\n",
        "\n",
        "# crea mapa\n",
        "m = Map(basemap=basemaps.CartoDB.Positron, center=(0, 0), zoom=2)\n",
        "\n",
        "# cargar capas del WMS al mapa\n",
        "layers=['sumALEEGE','sumALHEGE']\n",
        "for layer in layers:\n",
        "    wms_layer = WMSLayer(\n",
        "        url='http://globalfloods-ows.ecmwf.int/glofas-ows/ows.py',\n",
        "        layers=layer,\n",
        "        format='image/png',\n",
        "        transparent=True,\n",
        "        attribution='Copernicus GloFAS'\n",
        "    )\n",
        "m.add_layer(wms_layer)\n",
        "\n",
        "# mostrar mapa\n",
        "m"
      ]
    }
  ]
}